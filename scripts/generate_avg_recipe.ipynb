{
 "cells": [
  {
   "cell_type": "code",
   "execution_count": 2,
   "metadata": {},
   "outputs": [
    {
     "name": "stdout",
     "output_type": "stream",
     "text": [
      "AVERAGE BURNUP : 36169.381303 MWD/MTHM\n",
      "AVERAGE ENRICHMENT: 3.392045 % U235\n"
     ]
    }
   ],
   "source": [
    "# find average burnup and enrichment\n",
    "import sqlite3 as lite\n",
    "\n",
    "conn = lite.connect('1yr.sqlite')\n",
    "conn.row_factory = lite.Row\n",
    "cur = conn.cursor()\n",
    "average_burnup = cur.execute('SELECT avg(discharge_burnup) FROM discharge').fetchone()[0]\n",
    "average_enrichment = cur.execute('SELECT avg(initial_enrichment) FROM discharge').fetchone()[0]\n",
    "print('AVERAGE BURNUP : %f MWD/MTHM' %average_burnup)\n",
    "print('AVERAGE ENRICHMENT: %f %% U235' %average_enrichment)"
   ]
  },
  {
   "cell_type": "code",
   "execution_count": 19,
   "metadata": {},
   "outputs": [
    {
     "name": "stdout",
     "output_type": "stream",
     "text": [
      "324192\n"
     ]
    }
   ],
   "source": [
    "# find an assembly that most represents this datapoint\n",
    "# the minimization equation is scaled to equally weigh enrichment and burnup\n",
    "min_diff = cur.execute('SELECT assembly_id, min(abs(discharge_burnup - %f) + abs(initial_enrichment - %f)*10000) '\n",
    "                       'FROM discharge' %(average_burnup, average_enrichment)).fetchone()[0]\n",
    "print(min_diff)"
   ]
  },
  {
   "cell_type": "code",
   "execution_count": 32,
   "metadata": {},
   "outputs": [
    {
     "name": "stdout",
     "output_type": "stream",
     "text": [
      "ENRICHMENT: 3.394000 % U235\n",
      "BURNUP: 36172.000000 MWD/MTHM\n",
      "\n",
      "\n",
      "ERROR:\n",
      "ENRICHMENT: -0.057637 %\n",
      "BURNUP: -0.007240 %\n",
      "\n",
      "\n",
      "th-230 : 0.000000 %\n",
      "th-229 : 0.000000 %\n",
      "u-238 : 93.478329 %\n",
      "u-236 : 0.431826 %\n",
      "zr-93 : 0.084079 %\n",
      "y-90 : 0.000014 %\n",
      "zr-95 : 0.000107 %\n",
      "u-233 : 0.000000 %\n",
      "u-232 : 0.000000 %\n",
      "th-232 : 0.000000 %\n",
      "u-235 : 1.013261 %\n",
      "u-234 : 0.016992 %\n",
      "pu-239 : 0.731450 %\n",
      "pu-240 : 0.255995 %\n",
      "pu-241 : 0.169509 %\n",
      "pu-242 : 0.057000 %\n",
      "ru-106 : 0.008052 %\n",
      "sb-124 : 0.000000 %\n",
      "se-79 : 0.000502 %\n",
      "sb-125 : 0.000946 %\n",
      "ru-103 : 0.000006 %\n",
      "ra-226 : 0.000000 %\n",
      "pu-244 : 0.000004 %\n",
      "sn-126 : 0.002360 %\n",
      "sm-151 : 0.001558 %\n",
      "tc-99 : 0.084213 %\n",
      "sr-90 : 0.053386 %\n",
      "am-241 : 0.015907 %\n",
      "am-242m : 0.000122 %\n",
      "c-14 : 0.000010 %\n",
      "am-243 : 0.014665 %\n",
      "cm-242 : 0.000450 %\n",
      "cf-251 : 0.000000 %\n",
      "cm-244 : 0.005341 %\n",
      "cm-243 : 0.000054 %\n",
      "cf-249 : 0.000000 %\n",
      "ce-144 : 0.011615 %\n",
      "cm-245 : 0.000394 %\n",
      "cm-246 : 0.000031 %\n",
      "cm-247 : 0.000000 %\n",
      "cs-134 : 0.010143 %\n",
      "cm-248 : 0.000000 %\n",
      "cs-137 : 0.127860 %\n",
      "cs-135 : 0.055162 %\n",
      "eu-154 : 0.003002 %\n",
      "eu-152 : 0.000002 %\n",
      "kr-85 : 0.002874 %\n",
      "i-129 : 0.017659 %\n",
      "nb-94 : 0.000000 %\n",
      "np-237 : 0.054063 %\n",
      "nb-95 : 0.000126 %\n",
      "eu-155 : 0.000812 %\n",
      "h-3 : 0.000006 %\n",
      "pa-231 : 0.000000 %\n",
      "pd-107 : 0.026063 %\n",
      "pm-147 : 0.013757 %\n",
      "pu-238 : 0.023359 %\n",
      "ag-108m : 0.000000 %\n",
      "ag-110m : 0.000033 %\n",
      "ac-227 : 0.000000 %\n",
      "\n",
      "TOTAL U COMP IN UNF:  94.940408\n",
      "TOTAL PU COMP IN UNF:  1.237317\n"
     ]
    }
   ],
   "source": [
    "# print assembly data\n",
    "chosen_assem = cur.execute('SELECT * FROM discharge WHERE assembly_id = %i' %min_diff).fetchall()\n",
    "burnup = chosen_assem[0]['discharge_burnup']\n",
    "enrichment = chosen_assem[0]['initial_enrichment']\n",
    "total_mass = chosen_assem[0]['initial_uranium_kg']\n",
    "print('ENRICHMENT: %f %% U235' %enrichment)\n",
    "print('BURNUP: %f MWD/MTHM' %burnup)\n",
    "print('\\n')\n",
    "\n",
    "print('ERROR:')\n",
    "enr_error = 100 * (average_enrichment - enrichment) / average_enrichment\n",
    "print('ENRICHMENT: %f %%' %enr_error)\n",
    "bur_error = 100 * (average_burnup - burnup) / average_burnup\n",
    "print('BURNUP: %f %%' %bur_error)\n",
    "\n",
    "print('\\n')\n",
    "\n",
    "pu_comp = 0\n",
    "u_comp = 0\n",
    "for row in chosen_assem:\n",
    "    if 'pu' in row['isotope']:\n",
    "        pu_comp += float(row['total_mass_g']) * 0.1 / total_mass\n",
    "    if 'u' == row['isotope'][0]:\n",
    "        u_comp += float(row['total_mass_g']) * 0.1 / total_mass\n",
    "    print('%s : %f %%' %(row['isotope'], float(row['total_mass_g']) * 0.1 / total_mass ))\n",
    "\n",
    "print('\\nTOTAL U COMP IN UNF:  %f' %u_comp)\n",
    "print('TOTAL PU COMP IN UNF:  %f' %pu_comp)\n"
   ]
  },
  {
   "cell_type": "code",
   "execution_count": 35,
   "metadata": {},
   "outputs": [],
   "source": [
    "# output this recipe to cyclus xml block\n",
    "with open('avg_recipe.xml', 'w') as f:\n",
    "    head = \"<recipe>\\n\\t<name>used_uox_recipe</name>\\n\\t<basis>mass</basis>\\n\"\n",
    "    for row in chosen_assem:\n",
    "        head += '\\t\\t<nuclide> <id>%s</id> <comp>%f</comp> </nuclide>\\n' %(row['isotope'].capitalize(), float(row['total_mass_g']) * 0.1 / total_mass)\n",
    "    head += '</recipe>'\n",
    "    f.write(head)\n",
    "\n",
    "# this recipe block will be used in the calculations."
   ]
  },
  {
   "cell_type": "code",
   "execution_count": 36,
   "metadata": {},
   "outputs": [
    {
     "name": "stdout",
     "output_type": "stream",
     "text": [
      "<recipe>\r\n",
      "\t<name>used_uox_recipe</name>\r\n",
      "\t<basis>mass</basis>\r\n",
      "\t\t<nuclide> <id>Th-230</id> <comp>0.000000</comp> </nuclide>\r\n",
      "\t\t<nuclide> <id>Th-229</id> <comp>0.000000</comp> </nuclide>\r\n",
      "\t\t<nuclide> <id>U-238</id> <comp>93.478329</comp> </nuclide>\r\n",
      "\t\t<nuclide> <id>U-236</id> <comp>0.431826</comp> </nuclide>\r\n",
      "\t\t<nuclide> <id>Zr-93</id> <comp>0.084079</comp> </nuclide>\r\n",
      "\t\t<nuclide> <id>Y-90</id> <comp>0.000014</comp> </nuclide>\r\n",
      "\t\t<nuclide> <id>Zr-95</id> <comp>0.000107</comp> </nuclide>\r\n",
      "\t\t<nuclide> <id>U-233</id> <comp>0.000000</comp> </nuclide>\r\n",
      "\t\t<nuclide> <id>U-232</id> <comp>0.000000</comp> </nuclide>\r\n",
      "\t\t<nuclide> <id>Th-232</id> <comp>0.000000</comp> </nuclide>\r\n",
      "\t\t<nuclide> <id>U-235</id> <comp>1.013261</comp> </nuclide>\r\n",
      "\t\t<nuclide> <id>U-234</id> <comp>0.016992</comp> </nuclide>\r\n",
      "\t\t<nuclide> <id>Pu-239</id> <comp>0.731450</comp> </nuclide>\r\n",
      "\t\t<nuclide> <id>Pu-240</id> <comp>0.255995</comp> </nuclide>\r\n",
      "\t\t<nuclide> <id>Pu-241</id> <comp>0.169509</comp> </nuclide>\r\n",
      "\t\t<nuclide> <id>Pu-242</id> <comp>0.057000</comp> </nuclide>\r\n",
      "\t\t<nuclide> <id>Ru-106</id> <comp>0.008052</comp> </nuclide>\r\n",
      "\t\t<nuclide> <id>Sb-124</id> <comp>0.000000</comp> </nuclide>\r\n",
      "\t\t<nuclide> <id>Se-79</id> <comp>0.000502</comp> </nuclide>\r\n",
      "\t\t<nuclide> <id>Sb-125</id> <comp>0.000946</comp> </nuclide>\r\n",
      "\t\t<nuclide> <id>Ru-103</id> <comp>0.000006</comp> </nuclide>\r\n",
      "\t\t<nuclide> <id>Ra-226</id> <comp>0.000000</comp> </nuclide>\r\n",
      "\t\t<nuclide> <id>Pu-244</id> <comp>0.000004</comp> </nuclide>\r\n",
      "\t\t<nuclide> <id>Sn-126</id> <comp>0.002360</comp> </nuclide>\r\n",
      "\t\t<nuclide> <id>Sm-151</id> <comp>0.001558</comp> </nuclide>\r\n",
      "\t\t<nuclide> <id>Tc-99</id> <comp>0.084213</comp> </nuclide>\r\n",
      "\t\t<nuclide> <id>Sr-90</id> <comp>0.053386</comp> </nuclide>\r\n",
      "\t\t<nuclide> <id>Am-241</id> <comp>0.015907</comp> </nuclide>\r\n",
      "\t\t<nuclide> <id>Am-242m</id> <comp>0.000122</comp> </nuclide>\r\n",
      "\t\t<nuclide> <id>C-14</id> <comp>0.000010</comp> </nuclide>\r\n",
      "\t\t<nuclide> <id>Am-243</id> <comp>0.014665</comp> </nuclide>\r\n",
      "\t\t<nuclide> <id>Cm-242</id> <comp>0.000450</comp> </nuclide>\r\n",
      "\t\t<nuclide> <id>Cf-251</id> <comp>0.000000</comp> </nuclide>\r\n",
      "\t\t<nuclide> <id>Cm-244</id> <comp>0.005341</comp> </nuclide>\r\n",
      "\t\t<nuclide> <id>Cm-243</id> <comp>0.000054</comp> </nuclide>\r\n",
      "\t\t<nuclide> <id>Cf-249</id> <comp>0.000000</comp> </nuclide>\r\n",
      "\t\t<nuclide> <id>Ce-144</id> <comp>0.011615</comp> </nuclide>\r\n",
      "\t\t<nuclide> <id>Cm-245</id> <comp>0.000394</comp> </nuclide>\r\n",
      "\t\t<nuclide> <id>Cm-246</id> <comp>0.000031</comp> </nuclide>\r\n",
      "\t\t<nuclide> <id>Cm-247</id> <comp>0.000000</comp> </nuclide>\r\n",
      "\t\t<nuclide> <id>Cs-134</id> <comp>0.010143</comp> </nuclide>\r\n",
      "\t\t<nuclide> <id>Cm-248</id> <comp>0.000000</comp> </nuclide>\r\n",
      "\t\t<nuclide> <id>Cs-137</id> <comp>0.127860</comp> </nuclide>\r\n",
      "\t\t<nuclide> <id>Cs-135</id> <comp>0.055162</comp> </nuclide>\r\n",
      "\t\t<nuclide> <id>Eu-154</id> <comp>0.003002</comp> </nuclide>\r\n",
      "\t\t<nuclide> <id>Eu-152</id> <comp>0.000002</comp> </nuclide>\r\n",
      "\t\t<nuclide> <id>Kr-85</id> <comp>0.002874</comp> </nuclide>\r\n",
      "\t\t<nuclide> <id>I-129</id> <comp>0.017659</comp> </nuclide>\r\n",
      "\t\t<nuclide> <id>Nb-94</id> <comp>0.000000</comp> </nuclide>\r\n",
      "\t\t<nuclide> <id>Np-237</id> <comp>0.054063</comp> </nuclide>\r\n",
      "\t\t<nuclide> <id>Nb-95</id> <comp>0.000126</comp> </nuclide>\r\n",
      "\t\t<nuclide> <id>Eu-155</id> <comp>0.000812</comp> </nuclide>\r\n",
      "\t\t<nuclide> <id>H-3</id> <comp>0.000006</comp> </nuclide>\r\n",
      "\t\t<nuclide> <id>Pa-231</id> <comp>0.000000</comp> </nuclide>\r\n",
      "\t\t<nuclide> <id>Pd-107</id> <comp>0.026063</comp> </nuclide>\r\n",
      "\t\t<nuclide> <id>Pm-147</id> <comp>0.013757</comp> </nuclide>\r\n",
      "\t\t<nuclide> <id>Pu-238</id> <comp>0.023359</comp> </nuclide>\r\n",
      "\t\t<nuclide> <id>Ag-108m</id> <comp>0.000000</comp> </nuclide>\r\n",
      "\t\t<nuclide> <id>Ag-110m</id> <comp>0.000033</comp> </nuclide>\r\n",
      "\t\t<nuclide> <id>Ac-227</id> <comp>0.000000</comp> </nuclide>\r\n",
      "</recipe>"
     ]
    }
   ],
   "source": [
    "!cat avg_recipe.xml"
   ]
  },
  {
   "cell_type": "code",
   "execution_count": null,
   "metadata": {},
   "outputs": [],
   "source": []
  }
 ],
 "metadata": {
  "kernelspec": {
   "display_name": "Python 3",
   "language": "python",
   "name": "python3"
  },
  "language_info": {
   "codemirror_mode": {
    "name": "ipython",
    "version": 3
   },
   "file_extension": ".py",
   "mimetype": "text/x-python",
   "name": "python",
   "nbconvert_exporter": "python",
   "pygments_lexer": "ipython3",
   "version": "3.6.5"
  }
 },
 "nbformat": 4,
 "nbformat_minor": 2
}
