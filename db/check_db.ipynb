{
 "cells": [
  {
   "cell_type": "code",
   "execution_count": 4,
   "metadata": {},
   "outputs": [
    {
     "name": "stdout",
     "output_type": "stream",
     "text": [
      "TOTAL MASS OF UNF IN THE UNF-ST&DARDS DB:\n",
      "70426.60732655162\n"
     ]
    }
   ],
   "source": [
    "# checking database \n",
    "# 1yr cooling\n",
    "import numpy as np\n",
    "import sqlite3 as lite\n",
    "\n",
    "filename = '1yr.sqlite'\n",
    "con = lite.connect(filename)\n",
    "con.row_factory = lite.Row\n",
    "cur = con.cursor()\n",
    "\n",
    "assembly_masses = cur.execute('SELECT distinct(assembly_id), initial_uranium_kg FROM '\n",
    "                              'discharge').fetchall()\n",
    "total_mass = 0\n",
    "for row in assembly_masses:\n",
    "    total_mass += row['initial_uranium_kg'] * 1e-3\n",
    "print('TOTAL MASS OF UNF IN THE UNF-ST&DARDS DB:')\n",
    "print(total_mass)"
   ]
  },
  {
   "cell_type": "code",
   "execution_count": 5,
   "metadata": {},
   "outputs": [
    {
     "name": "stdout",
     "output_type": "stream",
     "text": [
      "TOTAL MASS OF UNF IN THE UNF-ST&DARDS DB:\n",
      "70423.23972855158\n"
     ]
    }
   ],
   "source": [
    "# check 2020\n",
    "import numpy as np\n",
    "import sqlite3 as lite\n",
    "from pyne import nucname\n",
    "\n",
    "filename = '2020.sqlite'\n",
    "con = lite.connect(filename)\n",
    "con.row_factory = lite.Row\n",
    "cur = con.cursor()\n",
    "\n",
    "assembly_masses = cur.execute('SELECT distinct(assembly_id), initial_uranium_kg FROM '\n",
    "                              'discharge').fetchall()\n",
    "total_mass = 0\n",
    "for row in assembly_masses:\n",
    "    total_mass += row['initial_uranium_kg'] * 1e-3\n",
    "print('TOTAL MASS OF UNF IN THE UNF-ST&DARDS DB:')\n",
    "\n",
    "\n",
    "print(total_mass)"
   ]
  },
  {
   "cell_type": "code",
   "execution_count": 1,
   "metadata": {},
   "outputs": [
    {
     "name": "stdout",
     "output_type": "stream",
     "text": [
      "{'Ac-227': 1.7438928473541057e-05, 'Ag-108m': 0.01868705685152701, 'Ag-110m': 0.0025711521652007287, 'Am-241': 76316.76122964719, 'Am-242m': 78.73039425835769, 'Am-243': 12301.081020259317, 'C-14': 1.9159691475941085, 'Ce-144': 1.8347468547747503, 'Cf-249': 0.0035469731829737092, 'Cf-251': 0.0008383172010673827, 'Cm-242': 0.20562137657010984, 'Cm-243': 29.508363972724208, 'Cm-244': 2990.951085988513, 'Cm-245': 522.882040277405, 'Cm-246': 74.17802235816376, 'Cm-247': 1.6777976332450844, 'Cm-248': 0.2157939310359449, 'Cs-134': 135.6346143902321, 'Cs-135': 39665.48492510012, 'Cs-137': 59198.81395445192, 'Eu-152': 0.6765085146263383, 'Eu-154': 568.7516911018462, 'Eu-155': 65.67919865767072, 'H-3': 1.0608268323879035, 'I-129': 12808.815645048964, 'Kr-85': 628.8664076918798, 'Nb-94': 0.1251200623881326, 'Np-237': 41906.61545301231, 'Pa-231': 0.05967581647934474, 'Pd-107': 19187.8021966305, 'Pm-147': 271.09320271724255, 'Pu-238': 16888.813369807413, 'Pu-239': 520503.3843020662, 'Pu-240': 180259.08877259918, 'Pu-241': 44756.45600547839, 'Pu-242': 42000.169411158015, 'Pu-244': 4.46276099152078, 'Ra-226': 0.00013379461617588802, 'Ru-106': 5.816371496899823, 'Sb-125': 22.992729871169022, 'Se-79': 360.04464891096995, 'Sm-151': 970.8774921805451, 'Sn-126': 1734.719586517334, 'Sr-90': 24047.649156083276, 'Tc-99': 60249.17493997002, 'Th-229': 0.00021127953008982054, 'Th-230': 0.9974861153024902, 'Th-232': 0.5467200773654339, 'U-232': 0.21779900394733956, 'U-233': 0.565454506323416, 'U-234': 14966.783817191117, 'U-235': 771397.4311902376, 'U-236': 308794.420543088, 'U-238': 65669535.159397975, 'Y-90': 6.099980884038151, 'Zr-93': 61709.252920114166, 'Nb-95': 3.918133766021959e-11, 'Sb-124': 5.9780502530916825e-15, 'Zr-95': 3.251905389033148e-11, 'Ru-103': 2.743334659202788e-19}\n"
     ]
    }
   ],
   "source": [
    "import numpy as np\n",
    "import sqlite3 as lite\n",
    "from pyne import nucname\n",
    "\n",
    "# get isotopics of 2020:\n",
    "comp_dict = {}\n",
    "\n",
    "filename = '2020.sqlite'\n",
    "con = lite.connect(filename)\n",
    "con.row_factory = lite.Row\n",
    "cur = con.cursor()\n",
    "iso_mass = cur.execute('SELECT isotope, total_mass_g FROM '\n",
    "                       'discharge').fetchall()\n",
    "for row in iso_mass:\n",
    "    mass_kg = float(row['total_mass_g']) * 1e-3\n",
    "    iso_name = row['isotope'].capitalize()\n",
    "    if iso_name not in comp_dict.keys():\n",
    "        comp_dict[iso_name] = mass_kg\n",
    "    else:\n",
    "        comp_dict[iso_name] += mass_kg\n",
    "\n",
    "print(comp_dict)"
   ]
  },
  {
   "cell_type": "code",
   "execution_count": 8,
   "metadata": {},
   "outputs": [],
   "source": [
    "# export to csv file\n",
    "array = np.zeros(2)\n",
    "for key, val in comp_dict.items():\n",
    "    add = np.array([key, val])\n",
    "    array = np.vstack((array, add))\n",
    "\n",
    "np.savetxt('2020_comp.csv', array[1:], delimiter=',', fmt='%s')"
   ]
  },
  {
   "cell_type": "code",
   "execution_count": null,
   "metadata": {},
   "outputs": [],
   "source": []
  }
 ],
 "metadata": {
  "kernelspec": {
   "display_name": "Python 3",
   "language": "python",
   "name": "python3"
  },
  "language_info": {
   "codemirror_mode": {
    "name": "ipython",
    "version": 3
   },
   "file_extension": ".py",
   "mimetype": "text/x-python",
   "name": "python",
   "nbconvert_exporter": "python",
   "pygments_lexer": "ipython3",
   "version": "3.6.5"
  }
 },
 "nbformat": 4,
 "nbformat_minor": 2
}
